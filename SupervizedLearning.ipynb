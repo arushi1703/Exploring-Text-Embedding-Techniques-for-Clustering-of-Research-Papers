{
 "cells": [
  {
   "cell_type": "code",
   "execution_count": 37,
   "id": "3b3ff0d7-22e4-43e8-9535-77f2257be5bf",
   "metadata": {},
   "outputs": [
    {
     "name": "stdout",
     "output_type": "stream",
     "text": [
      "Accuracy: 0.981\n",
      "Precision: 0.982\n",
      "Recall: 0.981\n",
      "F1-Score: 0.981\n",
      "\n",
      "Classification Report:\n",
      "              precision    recall  f1-score   support\n",
      "\n",
      "           1       1.00      0.97      0.99        35\n",
      "           2       0.92      1.00      0.96        11\n",
      "           3       1.00      1.00      1.00         6\n",
      "\n",
      "    accuracy                           0.98        52\n",
      "   macro avg       0.97      0.99      0.98        52\n",
      "weighted avg       0.98      0.98      0.98        52\n",
      "\n"
     ]
    }
   ],
   "source": [
    "import pandas as pd\n",
    "import numpy as np\n",
    "import re\n",
    "import random\n",
    "from sklearn.feature_extraction.text import TfidfVectorizer\n",
    "from sklearn.model_selection import train_test_split\n",
    "from sklearn.ensemble import RandomForestClassifier\n",
    "from sklearn.metrics import accuracy_score, precision_score, recall_score, f1_score, classification_report\n",
    "\n",
    "# Load dataset\n",
    "df = pd.read_csv(\"new_dataset.csv\")\n",
    "\n",
    "# Define text preprocessing function\n",
    "def preprocess_text(text):\n",
    "    if pd.isna(text):\n",
    "        return \"\"\n",
    "    text = text.lower()  # Convert to lowercase\n",
    "    text = re.sub(r'[^a-z\\s]', '', text)  # Remove punctuation and numbers\n",
    "    return text\n",
    "\n",
    "'''def add_noise(text):\n",
    "    words = text.split()\n",
    "    if len(words) > 5:\n",
    "        random.shuffle(words)  # Shuffle words randomly\n",
    "    return \" \".join(words)'''\n",
    "\n",
    "# Combine 'title' and 'keywords' \n",
    "df['processed_text'] = df['name'].astype(str) + \" \" + df['keywords'].astype(str)\n",
    "df['processed_text'] = df['processed_text'].apply(preprocess_text)\n",
    "#df['processed_text'] = df['processed_text'].apply(add_noise)\n",
    "\n",
    "# Split dataset BEFORE vectorization\n",
    "X_train_raw, X_test_raw, y_train, y_test = train_test_split(df['processed_text'], df['Category'], test_size=0.2, random_state=42)\n",
    "\n",
    "# Apply TF-IDF separately on train and test sets\n",
    "vectorizer = TfidfVectorizer(ngram_range=(1,2))  # Using unigrams and bigrams\n",
    "X_train = vectorizer.fit_transform(X_train_raw)  # Fit only on training data\n",
    "X_test = vectorizer.transform(X_test_raw)  # Transform test data using the same vocabulary\n",
    "\n",
    "# Train Random Forest Classifier\n",
    "model = RandomForestClassifier(n_estimators=50, max_depth=10, min_samples_split=5, random_state=42)\n",
    "\n",
    "model.fit(X_train, y_train)\n",
    "\n",
    "# Make Predictions\n",
    "y_pred = model.predict(X_test)\n",
    "\n",
    "# Evaluate Model Performance\n",
    "accuracy = accuracy_score(y_test, y_pred)\n",
    "precision = precision_score(y_test, y_pred, average='weighted')\n",
    "recall = recall_score(y_test, y_pred, average='weighted')\n",
    "f1 = f1_score(y_test, y_pred, average='weighted')\n",
    "\n",
    "# Print Results\n",
    "print(f\"Accuracy: {accuracy:.3f}\")\n",
    "print(f\"Precision: {precision:.3f}\")\n",
    "print(f\"Recall: {recall:.3f}\")\n",
    "print(f\"F1-Score: {f1:.3f}\")\n",
    "\n",
    "# Print Classification Report\n",
    "print(\"\\nClassification Report:\")\n",
    "print(classification_report(y_test, y_pred))\n"
   ]
  },
  {
   "cell_type": "code",
   "execution_count": 46,
   "id": "2a87c542-a515-4de3-a00e-e4afa2caebdb",
   "metadata": {},
   "outputs": [
    {
     "name": "stdout",
     "output_type": "stream",
     "text": [
      "BoW Accuracy: 0.981\n",
      "BoW Precision: 0.982\n",
      "BoW Recall: 0.981\n",
      "BoW F1-Score: 0.981\n",
      "Bigrams Accuracy: 0.692\n",
      "Bigrams Precision: 0.577\n",
      "Bigrams Recall: 0.692\n",
      "Bigrams F1-Score: 0.581\n"
     ]
    },
    {
     "name": "stderr",
     "output_type": "stream",
     "text": [
      "/Library/Frameworks/Python.framework/Versions/3.11/lib/python3.11/site-packages/sklearn/metrics/_classification.py:1565: UndefinedMetricWarning: Precision is ill-defined and being set to 0.0 in labels with no predicted samples. Use `zero_division` parameter to control this behavior.\n",
      "  _warn_prf(average, modifier, f\"{metric.capitalize()} is\", len(result))\n"
     ]
    }
   ],
   "source": [
    "import pandas as pd\n",
    "import numpy as np\n",
    "import re\n",
    "import random\n",
    "from sklearn.feature_extraction.text import CountVectorizer, TfidfVectorizer\n",
    "from sklearn.model_selection import train_test_split\n",
    "from sklearn.ensemble import RandomForestClassifier\n",
    "from sklearn.metrics import accuracy_score, precision_score, recall_score, f1_score, classification_report\n",
    "\n",
    "# Load dataset\n",
    "df = pd.read_csv(\"new_dataset.csv\")\n",
    "\n",
    "# Define text preprocessing function\n",
    "def preprocess_text(text):\n",
    "    if pd.isna(text):\n",
    "        return \"\"\n",
    "    text = text.lower()  # Convert to lowercase\n",
    "    text = re.sub(r'[^a-z\\s]', '', text)  # Remove punctuation and numbers\n",
    "    return text\n",
    "\n",
    "# Combine 'title' and 'keywords' for richer text representation\n",
    "df['processed_text'] = df['name'].astype(str) + \" \" + df['keywords'].astype(str)\n",
    "df['processed_text'] = df['processed_text'].apply(preprocess_text)\n",
    "\n",
    "# Split dataset BEFORE vectorization\n",
    "X_train_raw, X_test_raw, y_train, y_test = train_test_split(df['processed_text'], df['Category'], test_size=0.2, random_state=42)\n",
    "\n",
    "### **Bag of Words (BoW) Model**\n",
    "vectorizer_bow = CountVectorizer()  # Using word counts\n",
    "X_train_bow = vectorizer_bow.fit_transform(X_train_raw)\n",
    "X_test_bow = vectorizer_bow.transform(X_test_raw)\n",
    "\n",
    "# Train Random Forest\n",
    "model_bow = RandomForestClassifier(n_estimators=50, max_depth=10, min_samples_split=5, random_state=42)\n",
    "model_bow.fit(X_train_bow, y_train)\n",
    "y_pred_bow = model_bow.predict(X_test_bow)\n",
    "\n",
    "# Evaluate Model\n",
    "accuracy_bow = accuracy_score(y_test, y_pred_bow)\n",
    "precision_bow = precision_score(y_test, y_pred_bow, average='weighted')\n",
    "recall_bow = recall_score(y_test, y_pred_bow, average='weighted')\n",
    "f1_bow = f1_score(y_test, y_pred_bow, average='weighted')\n",
    "\n",
    "print(f\"BoW Accuracy: {accuracy_bow:.3f}\")\n",
    "print(f\"BoW Precision: {precision_bow:.3f}\")\n",
    "print(f\"BoW Recall: {recall_bow:.3f}\")\n",
    "print(f\"BoW F1-Score: {f1_bow:.3f}\")\n",
    "\n",
    "### **N-Grams (Bigrams) Model**\n",
    "vectorizer_ngrams = TfidfVectorizer(ngram_range=(2,2))  # Using bigrams only\n",
    "X_train_ngrams = vectorizer_ngrams.fit_transform(X_train_raw)\n",
    "X_test_ngrams = vectorizer_ngrams.transform(X_test_raw)\n",
    "\n",
    "# Train Random Forest\n",
    "model_ngrams = RandomForestClassifier(n_estimators=50, max_depth=10, min_samples_split=5, random_state=42)\n",
    "model_ngrams.fit(X_train_ngrams, y_train)\n",
    "y_pred_ngrams = model_ngrams.predict(X_test_ngrams)\n",
    "\n",
    "# Evaluate Model\n",
    "accuracy_ngrams = accuracy_score(y_test, y_pred_ngrams)\n",
    "precision_ngrams = precision_score(y_test, y_pred_ngrams, average='weighted')\n",
    "recall_ngrams = recall_score(y_test, y_pred_ngrams, average='weighted')\n",
    "f1_ngrams = f1_score(y_test, y_pred_ngrams, average='weighted')\n",
    "\n",
    "print(f\"Bigrams Accuracy: {accuracy_ngrams:.3f}\")\n",
    "print(f\"Bigrams Precision: {precision_ngrams:.3f}\")\n",
    "print(f\"Bigrams Recall: {recall_ngrams:.3f}\")\n",
    "print(f\"Bigrams F1-Score: {f1_ngrams:.3f}\")\n",
    "\n"
   ]
  },
  {
   "cell_type": "code",
   "execution_count": 47,
   "id": "8eff66c7-9e17-421a-ba41-66f329486bc1",
   "metadata": {},
   "outputs": [
    {
     "name": "stdout",
     "output_type": "stream",
     "text": [
      "Trigrams Accuracy: 0.673\n",
      "Trigrams Precision: 0.453\n",
      "Trigrams Recall: 0.673\n",
      "Trigrams F1-Score: 0.542\n"
     ]
    },
    {
     "name": "stderr",
     "output_type": "stream",
     "text": [
      "/Library/Frameworks/Python.framework/Versions/3.11/lib/python3.11/site-packages/sklearn/metrics/_classification.py:1565: UndefinedMetricWarning: Precision is ill-defined and being set to 0.0 in labels with no predicted samples. Use `zero_division` parameter to control this behavior.\n",
      "  _warn_prf(average, modifier, f\"{metric.capitalize()} is\", len(result))\n"
     ]
    }
   ],
   "source": [
    "### **TriGrams Model**\n",
    "vectorizer_ngrams = TfidfVectorizer(ngram_range=(3,3))  # Using bigrams only\n",
    "X_train_ngrams = vectorizer_ngrams.fit_transform(X_train_raw)\n",
    "X_test_ngrams = vectorizer_ngrams.transform(X_test_raw)\n",
    "\n",
    "# Train Random Forest\n",
    "model_ngrams = RandomForestClassifier(n_estimators=50, max_depth=10, min_samples_split=5, random_state=42)\n",
    "model_ngrams.fit(X_train_ngrams, y_train)\n",
    "y_pred_ngrams = model_ngrams.predict(X_test_ngrams)\n",
    "\n",
    "# Evaluate Model\n",
    "accuracy_ngrams = accuracy_score(y_test, y_pred_ngrams)\n",
    "precision_ngrams = precision_score(y_test, y_pred_ngrams, average='weighted')\n",
    "recall_ngrams = recall_score(y_test, y_pred_ngrams, average='weighted')\n",
    "f1_ngrams = f1_score(y_test, y_pred_ngrams, average='weighted')\n",
    "\n",
    "print(f\"Trigrams Accuracy: {accuracy_ngrams:.3f}\")\n",
    "print(f\"Trigrams Precision: {precision_ngrams:.3f}\")\n",
    "print(f\"Trigrams Recall: {recall_ngrams:.3f}\")\n",
    "print(f\"Trigrams F1-Score: {f1_ngrams:.3f}\")"
   ]
  },
  {
   "cell_type": "code",
   "execution_count": 48,
   "id": "59a0639b-5805-4b87-8199-f77f927efc80",
   "metadata": {},
   "outputs": [
    {
     "name": "stdout",
     "output_type": "stream",
     "text": [
      "Bigrams Accuracy: 0.692\n",
      "Bigrams Precision: 0.577\n",
      "Bigrams Recall: 0.692\n",
      "Bigrams F1-Score: 0.581\n"
     ]
    },
    {
     "name": "stderr",
     "output_type": "stream",
     "text": [
      "/Library/Frameworks/Python.framework/Versions/3.11/lib/python3.11/site-packages/sklearn/metrics/_classification.py:1565: UndefinedMetricWarning: Precision is ill-defined and being set to 0.0 in labels with no predicted samples. Use `zero_division` parameter to control this behavior.\n",
      "  _warn_prf(average, modifier, f\"{metric.capitalize()} is\", len(result))\n"
     ]
    }
   ],
   "source": [
    "### **N-Grams (Bigrams) Model**\n",
    "vectorizer_ngrams = TfidfVectorizer(ngram_range=(2,2))  # Using bigrams only\n",
    "X_train_ngrams = vectorizer_ngrams.fit_transform(X_train_raw)\n",
    "X_test_ngrams = vectorizer_ngrams.transform(X_test_raw)\n",
    "\n",
    "# Train Random Forest\n",
    "model_ngrams = RandomForestClassifier(n_estimators=50, max_depth=10, min_samples_split=5, random_state=42)\n",
    "model_ngrams.fit(X_train_ngrams, y_train)\n",
    "y_pred_ngrams = model_ngrams.predict(X_test_ngrams)\n",
    "\n",
    "# Evaluate Model\n",
    "accuracy_ngrams = accuracy_score(y_test, y_pred_ngrams)\n",
    "precision_ngrams = precision_score(y_test, y_pred_ngrams, average='weighted')\n",
    "recall_ngrams = recall_score(y_test, y_pred_ngrams, average='weighted')\n",
    "f1_ngrams = f1_score(y_test, y_pred_ngrams, average='weighted')\n",
    "\n",
    "print(f\"Bigrams Accuracy: {accuracy_ngrams:.3f}\")\n",
    "print(f\"Bigrams Precision: {precision_ngrams:.3f}\")\n",
    "print(f\"Bigrams Recall: {recall_ngrams:.3f}\")\n",
    "print(f\"Bigrams F1-Score: {f1_ngrams:.3f}\")"
   ]
  },
  {
   "cell_type": "code",
   "execution_count": 55,
   "id": "99caf102-2840-4866-9879-0284bf943aa5",
   "metadata": {},
   "outputs": [
    {
     "data": {
      "image/png": "[encoded data removed]",
      "text/plain": [
       "<Figure size 1000x400 with 1 Axes>"
      ]
     },
     "metadata": {},
     "output_type": "display_data"
    }
   ],
   "source": [
    "import matplotlib.pyplot as plt\n",
    "import numpy as np\n",
    "\n",
    "# Define the data from the results table\n",
    "embedding_methods = [\"BoW(k=3)\", \"Bigrams(k=4)\",\"TF-IDF (k=5)\"]\n",
    "silhouette_scores = [0.179, 0.111,0.697]  # Using available Silhouette Scores\n",
    "accuracy_scores = [0.981, 0.808, 0.981]  # Missing values represented as None\n",
    "f1_scores = [0.981, 0.74, 0.981]  # Missing values represented as None\n",
    "\n",
    "# Convert None to NaN for handling missing values\n",
    "silhouette_scores = np.array(silhouette_scores)\n",
    "accuracy_scores = np.array([x if x is not None else np.nan for x in accuracy_scores])\n",
    "f1_scores = np.array([x if x is not None else np.nan for x in f1_scores])\n",
    "\n",
    "# Plot the data\n",
    "plt.figure(figsize=(10, 4))\n",
    "\n",
    "plt.plot(embedding_methods, silhouette_scores, marker='o', linestyle='-', color='blue', label=\"Silhouette Score\")\n",
    "plt.plot(embedding_methods, accuracy_scores, marker='s', linestyle='-', color='green', label=\"Accuracy\")\n",
    "plt.plot(embedding_methods, f1_scores, marker='^', linestyle='-', color='red', label=\"F1 Score\")\n",
    "\n",
    "# Adding labels and title\n",
    "plt.xlabel(\"Text Embedding Techniques\")\n",
    "plt.ylabel(\"Scores\")\n",
    "plt.title(\"Comparison of Silhouette Score, Accuracy, and F1 Score\")\n",
    "plt.legend()\n",
    "plt.grid(True)\n",
    "\n",
    "# Display the graph\n",
    "plt.show()\n"
   ]
  },
  {
   "cell_type": "code",
   "execution_count": null,
   "id": "3a0dc305-8e4b-4552-b3aa-20dd0bdbdc84",
   "metadata": {},
   "outputs": [],
   "source": []
  }
 ],
 "metadata": {
  "kernelspec": {
   "display_name": "Python 3 (ipykernel)",
   "language": "python",
   "name": "python3"
  },
  "language_info": {
   "codemirror_mode": {
    "name": "ipython",
    "version": 3
   },
   "file_extension": ".py",
   "mimetype": "text/x-python",
   "name": "python",
   "nbconvert_exporter": "python",
   "pygments_lexer": "ipython3",
   "version": "3.11.1"
  }
 },
 "nbformat": 4,
 "nbformat_minor": 5
}
